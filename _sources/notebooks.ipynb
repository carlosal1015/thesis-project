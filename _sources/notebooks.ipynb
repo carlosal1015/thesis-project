{
 "cells": [
  {
   "cell_type": "markdown",
   "metadata": {},
   "source": [
    "# Content with notebooks\n",
    "\n",
    "You can also create content with Jupyter Notebooks. This means that you can include\n",
    "code blocks and their outputs in your book.\n",
    "\n",
    "## Markdown + notebooks"
   ]
  },
  {
   "cell_type": "code",
   "execution_count": 21,
   "metadata": {},
   "outputs": [],
   "source": [
    "from sympy import Derivative as D\n",
    "from sympy import Eq, Function, symbols, exp"
   ]
  },
  {
   "cell_type": "code",
   "execution_count": 22,
   "metadata": {},
   "outputs": [],
   "source": [
    "x, t, c, v, alpha, beta = symbols(\"x, t, c, v, alpha, beta\")"
   ]
  },
  {
   "cell_type": "code",
   "execution_count": 23,
   "metadata": {},
   "outputs": [],
   "source": [
    "u = symbols(\"u\", cls=Function)(x, t)\n",
    "v = symbols(\"v\", cls=Function)(x, t)"
   ]
  },
  {
   "cell_type": "code",
   "execution_count": 24,
   "metadata": {},
   "outputs": [],
   "source": [
    "advection = D(u, t) + c * D(u, x)\n",
    "diffusion = v * D(u, x, 2)"
   ]
  },
  {
   "cell_type": "code",
   "execution_count": 25,
   "metadata": {},
   "outputs": [],
   "source": [
    "advection_diffusion_equation = Eq(advection, diffusion)"
   ]
  },
  {
   "cell_type": "code",
   "execution_count": 26,
   "metadata": {},
   "outputs": [
    {
     "data": {
      "text/latex": [
       "$\\displaystyle c \\frac{\\partial}{\\partial x} u{\\left(x,t \\right)} + \\frac{\\partial}{\\partial t} u{\\left(x,t \\right)} = v{\\left(x,t \\right)} \\frac{\\partial^{2}}{\\partial x^{2}} u{\\left(x,t \\right)}$"
      ],
      "text/plain": [
       "Eq(c*Derivative(u(x, t), x) + Derivative(u(x, t), t), v(x, t)*Derivative(u(x, t), (x, 2)))"
      ]
     },
     "execution_count": 26,
     "metadata": {},
     "output_type": "execute_result"
    }
   ],
   "source": [
    "advection_diffusion_equation"
   ]
  },
  {
   "cell_type": "code",
   "execution_count": 27,
   "metadata": {},
   "outputs": [],
   "source": [
    "_u = v * exp(alpha * x + beta * t)"
   ]
  },
  {
   "cell_type": "code",
   "execution_count": 28,
   "metadata": {},
   "outputs": [],
   "source": [
    "u_t = D(_u, t).simplify()\n",
    "u_x = D(_u, x).simplify()\n",
    "u_xx = D(_u, x, 2).simplify()"
   ]
  },
  {
   "cell_type": "code",
   "execution_count": 34,
   "metadata": {},
   "outputs": [],
   "source": [
    "#u_t"
   ]
  },
  {
   "cell_type": "code",
   "execution_count": 35,
   "metadata": {},
   "outputs": [],
   "source": [
    "#u_x"
   ]
  },
  {
   "cell_type": "code",
   "execution_count": 36,
   "metadata": {},
   "outputs": [],
   "source": [
    "#u_xx"
   ]
  },
  {
   "cell_type": "code",
   "execution_count": 37,
   "metadata": {},
   "outputs": [],
   "source": [
    "#v_0 = advection_diffusion_equation.subs({t: 0})"
   ]
  },
  {
   "cell_type": "code",
   "execution_count": 38,
   "metadata": {},
   "outputs": [],
   "source": [
    "#v_0"
   ]
  },
  {
   "cell_type": "markdown",
   "metadata": {},
   "source": [
    "Show that the diffusion equation with Homogeneous Dirichlet Boundary conditions\n",
    "\n",
    "$$\n",
    "\\begin{cases}\n",
    "u_{t}+cu_{x}=\\nu u_{xx}\n",
    "& \\text { for }-1<x<1, 0<t\\leq T. \\\\\n",
    "u\n",
    "\\left(x, 0\\right)=\n",
    "-\\sin\\left(\\pi x\\right)\n",
    "& \\text { for }-1<x<1. \\\\\n",
    "u\n",
    "\\left(-1, t\\right)=\n",
    "u\\left(1, t\\right)=0\n",
    "& \\text { for }0<t\\leq T.\n",
    "\\end{cases}\n",
    "$$\n",
    "has the solution\n",
    "\n",
    "$$\n",
    "u\\left(x,t\\right)=\n",
    "16\\pi^2\\nu^3 c\\exp\\left(\\right).\n",
    "$$"
   ]
  },
  {
   "cell_type": "code",
   "execution_count": null,
   "metadata": {},
   "outputs": [],
   "source": []
  }
 ],
 "metadata": {
  "kernelspec": {
   "display_name": "Python 3 (ipykernel)",
   "language": "python",
   "name": "python3"
  },
  "language_info": {
   "codemirror_mode": {
    "name": "ipython",
    "version": 3
   },
   "file_extension": ".py",
   "mimetype": "text/x-python",
   "name": "python",
   "nbconvert_exporter": "python",
   "pygments_lexer": "ipython3",
   "version": "3.11.8"
  },
  "widgets": {
   "application/vnd.jupyter.widget-state+json": {
    "state": {},
    "version_major": 2,
    "version_minor": 0
   }
  }
 },
 "nbformat": 4,
 "nbformat_minor": 4
}
