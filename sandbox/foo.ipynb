{
 "cells": [
  {
   "cell_type": "code",
   "execution_count": 15,
   "metadata": {},
   "outputs": [],
   "source": [
    "import numpy as np\n",
    "import matplotlib.pyplot as plt"
   ]
  },
  {
   "cell_type": "code",
   "execution_count": 36,
   "metadata": {},
   "outputs": [],
   "source": [
    "plt.rcParams[\"text.usetex\"] = True\n",
    "plt.rcParams[\"font.serif\"] = [\"Computer Modern\"]\n",
    "np.set_printoptions(precision=3)"
   ]
  },
  {
   "cell_type": "code",
   "execution_count": 17,
   "metadata": {},
   "outputs": [],
   "source": [
    "\n",
    "def solver(dt, T, w=0.35, I=1):\n",
    "    \"\"\"\n",
    "    Solve Eq. (1)\n",
    "\n",
    "    Parameters\n",
    "    ----------\n",
    "    dt : float\n",
    "        Time step\n",
    "    T : float\n",
    "        End time\n",
    "    I, w : float, optional\n",
    "        Model parameters\n",
    "\n",
    "    Returns\n",
    "    -------\n",
    "    t : array_like\n",
    "        Discrete times (0, dt, 2*dt, ..., T)\n",
    "    u : array_like\n",
    "        The solution at discrete times t\n",
    "    \"\"\"\n",
    "    dt = float(dt)\n",
    "    Nt = int(round(T/dt))\n",
    "    u = np.zeros(Nt+1)\n",
    "    t = np.linspace(0, Nt*dt, Nt+1)\n",
    "    u[0] = I\n",
    "    u[1] = u[0] - 0.5*dt**2*w**2*u[0]\n",
    "    for n in range(1, Nt):\n",
    "        u[n+1] = 2*u[n] - u[n-1] - dt**2*w**2*u[n]\n",
    "    return t, u\n",
    "\n",
    "def u_exact(t, w=0.35, I=1):\n",
    "    \"\"\"Exact solution of Eq. (1)\n",
    "\n",
    "    Parameters\n",
    "    ----------\n",
    "    t : array_like\n",
    "        Array of times to compute the solution\n",
    "    I, w : float, optional\n",
    "        Model parameters\n",
    "\n",
    "    Returns\n",
    "    -------\n",
    "    ue : array_like\n",
    "        The solution at times t\n",
    "    \"\"\"\n",
    "    return I*np.cos(w*t)"
   ]
  },
  {
   "cell_type": "code",
   "execution_count": 18,
   "metadata": {},
   "outputs": [],
   "source": [
    "def l2_error(dt, T, w=0.35, I=0.3, sol=solver):\n",
    "    \"\"\"Compute the l2 error norm of result from `solver`\n",
    "\n",
    "    Parameters\n",
    "    ----------\n",
    "    dt : float\n",
    "        Time step\n",
    "    T : float\n",
    "        End time\n",
    "    I, w : float, optional\n",
    "        Model parameters\n",
    "    sol : callable\n",
    "        The function that solves Eq. (1)\n",
    "\n",
    "    Returns\n",
    "    -------\n",
    "    float\n",
    "        The l2 error norm\n",
    "    \"\"\"\n",
    "    t, u = sol(dt, T, w, I)\n",
    "    ue = u_exact(t, w, I)\n",
    "    return np.sqrt(dt*np.sum((ue-u)**2))"
   ]
  },
  {
   "cell_type": "code",
   "execution_count": 19,
   "metadata": {},
   "outputs": [],
   "source": [
    "def convergence_rates(m, dt0=30, num_periods=8, w=0.35, I=0.3, sol=solver):\n",
    "    \"\"\"\n",
    "    Return m-1 empirical estimates of the convergence rate\n",
    "    based on m simulations, where the time step is halved\n",
    "    for each simulation.\n",
    "\n",
    "    Parameters\n",
    "    ----------\n",
    "    m : int\n",
    "        The number of mesh levels\n",
    "    dt0 : int, optional\n",
    "        Time steps per period on coarsest level\n",
    "    num_periods : int, optional\n",
    "        Size of domain is num_periods * 2pi / w\n",
    "    w, I : float, optional\n",
    "        Model parameters\n",
    "    sol : callable\n",
    "        The function that solves Eq. (1)\n",
    "\n",
    "    Returns\n",
    "    -------\n",
    "    array_like\n",
    "        The m-1 convergence rates\n",
    "    array_like\n",
    "        The m errors of the m meshes\n",
    "    array_like\n",
    "        The m time steps of the m meshes\n",
    "\n",
    "    \"\"\"\n",
    "    P = 2*np.pi/w\n",
    "    dt = P/dt0\n",
    "    T = P*num_periods\n",
    "    dt_values, E_values = [], []\n",
    "    for i in range(m):\n",
    "        E = l2_error(dt, T, w, I, sol=sol)\n",
    "        dt_values.append(dt)\n",
    "        E_values.append(E)\n",
    "        dt = dt/2\n",
    "    # Compute m-1 orders that should all be the same\n",
    "    r = [np.log(E_values[i-1]/E_values[i])/\n",
    "         np.log(dt_values[i-1]/dt_values[i])\n",
    "         for i in range(1, m, 1)]\n",
    "    return r, E_values, dt_values"
   ]
  },
  {
   "cell_type": "code",
   "execution_count": 20,
   "metadata": {},
   "outputs": [
    {
     "data": {
      "text/plain": [
       "([2.0036366687367093, 2.0009497328195964, 2.000240106059535],\n",
       " [0.13526035155205304,\n",
       "  0.03372995596052594,\n",
       "  0.008426939670390834,\n",
       "  0.0021063843253281145],\n",
       " [0.5983986006837702,\n",
       "  0.2991993003418851,\n",
       "  0.14959965017094254,\n",
       "  0.07479982508547127])"
      ]
     },
     "execution_count": 20,
     "metadata": {},
     "output_type": "execute_result"
    }
   ],
   "source": [
    "convergence_rates(4)"
   ]
  },
  {
   "cell_type": "code",
   "execution_count": 29,
   "metadata": {},
   "outputs": [
    {
     "data": {
      "image/png": "[encoded data removed]",
      "text/plain": [
       "<Figure size 640x480 with 1 Axes>"
      ]
     },
     "metadata": {},
     "output_type": "display_data"
    }
   ],
   "source": [
    "r, E, dt = convergence_rates(5)\n",
    "plt.loglog(dt, E)\n",
    "plt.loglog(dt, dt)\n",
    "plt.loglog(dt, np.array(dt)**2)\n",
    "plt.title('Convergence of finite difference method')\n",
    "plt.legend(title=\"Leyenda\", labels=['Error', '$\\mathcal{O}(\\Delta t)$', '$\\mathcal{O}(\\Delta t^2)$'], shadow=True, fancybox=True)\n",
    "from plotslopes import slope_marker\n",
    "slope_marker((dt[1], E[1]), (2,1))\n",
    "slope_marker((dt[1], dt[1]), (1,1))\n",
    "slope_marker((dt[1], dt[1]**2), (2,1))\n",
    "plt.savefig(\"foo.pdf\", transparent=True, bbox_inches=\"tight\")"
   ]
  },
  {
   "cell_type": "code",
   "execution_count": 22,
   "metadata": {},
   "outputs": [],
   "source": [
    "def test_order(m):\n",
    "    r, E, dt = convergence_rates(m)\n",
    "    assert np.allclose(np.array(r), 2, atol=1e-2)"
   ]
  },
  {
   "cell_type": "code",
   "execution_count": 23,
   "metadata": {},
   "outputs": [],
   "source": [
    "test_order(5)"
   ]
  },
  {
   "cell_type": "code",
   "execution_count": 24,
   "metadata": {},
   "outputs": [
    {
     "name": "stdout",
     "output_type": "stream",
     "text": [
      "  % Total    % Received % Xferd  Average Speed   Time    Time     Time  Current\n",
      "                                 Dload  Upload   Total   Spent    Left  Speed\n",
      "  0     0    0     0    0     0      0      0 --:--:-- --:--:-- --:--:--     0"
     ]
    },
    {
     "name": "stdout",
     "output_type": "stream",
     "text": [
      "100  4386  100  4386    0     0  15050      0 --:--:-- --:--:-- --:--:-- 15124\n"
     ]
    }
   ],
   "source": [
    "!(curl -O https://raw.githubusercontent.com/MATMEK-4270/matmek4270-book/main/plotslopes.py)"
   ]
  },
  {
   "cell_type": "code",
   "execution_count": 25,
   "metadata": {},
   "outputs": [
    {
     "name": "stdout",
     "output_type": "stream",
     "text": [
      "convergence.ipynb     geometry.beamer.aux  geometry.beamer.tex\t indent.log\n",
      "foo.ipynb\t      geometry.beamer.log  geometry.beamer.toc\t plotslopes.py\n",
      "geometry.article.aux  geometry.beamer.nav  geometry.handout.log  __pycache__\n",
      "geometry.article.log  geometry.beamer.out  geometry.handout.pdf  Untitled.ipynb\n",
      "geometry.article.pdf  geometry.beamer.pdf  geometry.handout.tex\n",
      "geometry.article.tex  geometry.beamer.snm  geometry.tex\n"
     ]
    }
   ],
   "source": [
    "!(ls)"
   ]
  },
  {
   "cell_type": "code",
   "execution_count": 30,
   "metadata": {},
   "outputs": [],
   "source": [
    "dt = 0.1\n",
    "T = 10\n",
    "Nt = int(round(T/dt))\n",
    "t = np.linspace(0, Nt*dt, Nt+1)\n",
    "u = t**2\n",
    "uc = (u[2:] - 2*u[1:-1] + u[:-2])/dt**2\n",
    "assert np.allclose(uc, 2)"
   ]
  },
  {
   "cell_type": "code",
   "execution_count": 31,
   "metadata": {},
   "outputs": [
    {
     "name": "stdout",
     "output_type": "stream",
     "text": [
      "[0.02 0.02 0.02 0.02 0.02 0.02 0.02 0.02 0.02 0.02 0.02 0.02 0.02 0.02\n",
      " 0.02 0.02 0.02 0.02 0.02 0.02 0.02 0.02 0.02 0.02 0.02 0.02 0.02 0.02\n",
      " 0.02 0.02 0.02 0.02 0.02 0.02 0.02 0.02 0.02 0.02 0.02 0.02 0.02 0.02\n",
      " 0.02 0.02 0.02 0.02 0.02 0.02 0.02 0.02 0.02 0.02 0.02 0.02 0.02 0.02\n",
      " 0.02 0.02 0.02 0.02 0.02 0.02 0.02 0.02 0.02 0.02 0.02 0.02 0.02 0.02\n",
      " 0.02 0.02 0.02 0.02 0.02 0.02 0.02 0.02 0.02 0.02 0.02 0.02 0.02 0.02\n",
      " 0.02 0.02 0.02 0.02 0.02 0.02 0.02 0.02 0.02 0.02 0.02 0.02 0.02 0.02\n",
      " 0.02]\n"
     ]
    }
   ],
   "source": [
    "dt = 0.1\n",
    "Nt = int(round(T/dt))\n",
    "t = np.linspace(0, Nt*dt, Nt+1)\n",
    "u = t**4\n",
    "uc = (u[2:] - 2*u[1:-1] + u[:-2])/dt**2\n",
    "print(uc-12*t[1:-1]**2)"
   ]
  },
  {
   "cell_type": "code",
   "execution_count": 32,
   "metadata": {},
   "outputs": [],
   "source": [
    "assert np.allclose(uc-12*t[1:-1]**2, 2*dt**2)"
   ]
  },
  {
   "cell_type": "code",
   "execution_count": 33,
   "metadata": {},
   "outputs": [],
   "source": [
    "def adj_solver(dt, T, w=0.35, I=1):\n",
    "    \"\"\"\n",
    "    Solve Eq. (1)\n",
    "\n",
    "    Parameters\n",
    "    ----------\n",
    "    dt : float\n",
    "        Time step\n",
    "    T : float\n",
    "        End time\n",
    "    I, w : float, optional\n",
    "        Model parameters\n",
    "\n",
    "    Returns\n",
    "    -------\n",
    "    t : array_like\n",
    "        Discrete times (0, dt, 2*dt, ..., T)\n",
    "    u : array_like\n",
    "        The solution at discrete times t\n",
    "    \"\"\"\n",
    "    dt = float(dt)\n",
    "    Nt = int(round(T/dt))\n",
    "    u = np.zeros(Nt+1)\n",
    "    t = np.linspace(0, Nt*dt, Nt+1)\n",
    "    u[0] = I\n",
    "    u[1] = u[0] - 0.5*dt**2*(w*(1-w**2*dt**2/24))**2*u[0]\n",
    "    for n in range(1, Nt):\n",
    "        u[n+1] = 2*u[n] - u[n-1] - dt**2*(w*(1-w**2*dt**2/24))**2*u[n]\n",
    "    return t, u"
   ]
  },
  {
   "cell_type": "code",
   "execution_count": 35,
   "metadata": {},
   "outputs": [
    {
     "data": {
      "image/png": "[encoded data removed]",
      "text/plain": [
       "<Figure size 640x480 with 1 Axes>"
      ]
     },
     "metadata": {},
     "output_type": "display_data"
    }
   ],
   "source": [
    "r, E, dt = convergence_rates(5, sol=solver)\n",
    "r2, E2, dt2 = convergence_rates(5, sol=adj_solver)\n",
    "plt.loglog(dt, E)\n",
    "plt.loglog(dt2, E2)\n",
    "plt.loglog(dt, dt)\n",
    "plt.loglog(dt, np.array(dt)**2)\n",
    "plt.title('Convergence of finite difference method')\n",
    "plt.legend(title=\"Leyenda\", labels=['Error', 'Error modified', '$\\mathcal{O}(\\Delta t)$', '$\\mathcal{O}(\\Delta t^2)$'], shadow=True, fancybox=True)\n",
    "from plotslopes import slope_marker\n",
    "slope_marker((dt[1], E[1]), (2,1))\n",
    "slope_marker((dt2[1], E2[1]), (4,1))\n",
    "slope_marker((dt[1], dt[1]), (1,1))\n",
    "slope_marker((dt[1], dt[1]**2), (2,1))\n",
    "plt.savefig(\"foo2.pdf\", transparent=True, bbox_inches=\"tight\")"
   ]
  },
  {
   "cell_type": "code",
   "execution_count": 38,
   "metadata": {},
   "outputs": [],
   "source": [
    "N = 8\n",
    "a = 2\n",
    "I = 1\n",
    "theta = 0.5\n",
    "dt = 0.5\n",
    "T = N*dt\n",
    "t = np.linspace(0, N*dt, N+1)\n",
    "u = np.zeros(N+1)\n",
    "C = (1 - (1-theta) * a * dt)/(1 + theta * a * dt)\n",
    "u[0] = I\n",
    "for n in range(N):\n",
    "    u[n+1] = C * u[n]"
   ]
  },
  {
   "cell_type": "code",
   "execution_count": 39,
   "metadata": {},
   "outputs": [
    {
     "data": {
      "image/png": "[encoded data removed]",
      "text/plain": [
       "<Figure size 640x480 with 1 Axes>"
      ]
     },
     "metadata": {},
     "output_type": "display_data"
    }
   ],
   "source": [
    "te = np.linspace(0, N*dt, 1001)\n",
    "plt.plot(t, u, 'b+', te, np.exp(-a*te), 'k')\n",
    "plt.legend(['Numerical', 'Exact'])\n",
    "plt.text(-0.1, u[0], '$u^0$')\n",
    "plt.text(0.3, u[1], '$u^1$')\n",
    "plt.text(0.82, u[2], '$u^2$');"
   ]
  },
  {
   "cell_type": "code",
   "execution_count": 41,
   "metadata": {},
   "outputs": [
    {
     "name": "stdout",
     "output_type": "stream",
     "text": [
      "[[ 1.     0.     0.     0.     0.     0.     0.     0.     0.   ]\n",
      " [-0.333  1.     0.     0.     0.     0.     0.     0.     0.   ]\n",
      " [ 0.    -0.333  1.     0.     0.     0.     0.     0.     0.   ]\n",
      " [ 0.     0.    -0.333  1.     0.     0.     0.     0.     0.   ]\n",
      " [ 0.     0.     0.    -0.333  1.     0.     0.     0.     0.   ]\n",
      " [ 0.     0.     0.     0.    -0.333  1.     0.     0.     0.   ]\n",
      " [ 0.     0.     0.     0.     0.    -0.333  1.     0.     0.   ]\n",
      " [ 0.     0.     0.     0.     0.     0.    -0.333  1.     0.   ]\n",
      " [ 0.     0.     0.     0.     0.     0.     0.    -0.333  1.   ]]\n"
     ]
    }
   ],
   "source": [
    "from scipy import sparse\n",
    "A = sparse.diags([np.full(N, -C), np.ones(N+1)], np.array([-1, 0]), (N+1, N+1), 'csr')\n",
    "print(A.toarray())"
   ]
  },
  {
   "cell_type": "code",
   "execution_count": 42,
   "metadata": {},
   "outputs": [
    {
     "name": "stdout",
     "output_type": "stream",
     "text": [
      "[1.000e+00 3.333e-01 1.111e-01 3.704e-02 1.235e-02 4.115e-03 1.372e-03\n",
      " 4.572e-04 1.524e-04]\n"
     ]
    }
   ],
   "source": [
    "b = np.zeros(N+1)\n",
    "b[0] = I\n",
    "un = sparse.linalg.spsolve_triangular(A, b, lower=True, unit_diagonal=True)\n",
    "print(un)"
   ]
  },
  {
   "cell_type": "code",
   "execution_count": 43,
   "metadata": {},
   "outputs": [
    {
     "data": {
      "text/plain": [
       "array([0., 0., 0., 0., 0., 0., 0., 0., 0.])"
      ]
     },
     "execution_count": 43,
     "metadata": {},
     "output_type": "execute_result"
    }
   ],
   "source": [
    "un-u"
   ]
  },
  {
   "cell_type": "code",
   "execution_count": 45,
   "metadata": {},
   "outputs": [
    {
     "name": "stdout",
     "output_type": "stream",
     "text": [
      "[[-2.  1.  0.  0.  0.  0.  0.  0.  0.]\n",
      " [ 1. -2.  1.  0.  0.  0.  0.  0.  0.]\n",
      " [ 0.  1. -2.  1.  0.  0.  0.  0.  0.]\n",
      " [ 0.  0.  1. -2.  1.  0.  0.  0.  0.]\n",
      " [ 0.  0.  0.  1. -2.  1.  0.  0.  0.]\n",
      " [ 0.  0.  0.  0.  1. -2.  1.  0.  0.]\n",
      " [ 0.  0.  0.  0.  0.  1. -2.  1.  0.]\n",
      " [ 0.  0.  0.  0.  0.  0.  1. -2.  1.]\n",
      " [ 0.  0.  0.  0.  0.  0.  0.  1. -2.]]\n"
     ]
    }
   ],
   "source": [
    "D2 = sparse.diags([np.ones(N), np.full(N+1, -2), np.ones(N)], np.array([-1, 0, 1]), (N+1, N+1), 'lil')\n",
    "print(D2.toarray())"
   ]
  },
  {
   "cell_type": "code",
   "execution_count": 47,
   "metadata": {},
   "outputs": [
    {
     "name": "stdout",
     "output_type": "stream",
     "text": [
      "[[ 2. -5.  4. -1.  0.  0.  0.  0.  0.]\n",
      " [ 4. -8.  4.  0.  0.  0.  0.  0.  0.]\n",
      " [ 0.  4. -8.  4.  0.  0.  0.  0.  0.]\n",
      " [ 0.  0.  4. -8.  4.  0.  0.  0.  0.]\n",
      " [ 0.  0.  0.  4. -8.  4.  0.  0.  0.]\n",
      " [ 0.  0.  0.  0.  4. -8.  4.  0.  0.]\n",
      " [ 0.  0.  0.  0.  0.  4. -8.  4.  0.]\n",
      " [ 0.  0.  0.  0.  0.  0.  4. -8.  4.]\n",
      " [ 0.  0.  0.  0.  0. -1.  4. -5.  2.]]\n"
     ]
    }
   ],
   "source": [
    "D2[0, :4] = 2, -5, 4, -1\n",
    "D2[-1, -4:] = -1, 4, -5, 2\n",
    "D2 *= (1/dt**2) # don't forget h\n",
    "print(D2.toarray()*dt**2)"
   ]
  },
  {
   "cell_type": "code",
   "execution_count": 48,
   "metadata": {},
   "outputs": [
    {
     "name": "stdout",
     "output_type": "stream",
     "text": [
      "[ 0.    0.25  1.    2.25  4.    6.25  9.   12.25 16.  ]\n"
     ]
    }
   ],
   "source": [
    "f = t**2\n",
    "print(f)"
   ]
  },
  {
   "cell_type": "code",
   "execution_count": 49,
   "metadata": {},
   "outputs": [
    {
     "name": "stdout",
     "output_type": "stream",
     "text": [
      "[2. 8. 8. 8. 8. 8. 8. 8. 2.]\n"
     ]
    }
   ],
   "source": [
    "d2f = D2 @ f\n",
    "print(d2f)"
   ]
  },
  {
   "cell_type": "code",
   "execution_count": 50,
   "metadata": {},
   "outputs": [
    {
     "name": "stdout",
     "output_type": "stream",
     "text": [
      "[2. 2. 2. 2. 2. 2. 2. 2. 2.]\n"
     ]
    }
   ],
   "source": [
    "D2e = sparse.diags([np.ones(N), np.full(N+1, -2), np.ones(N)], np.array([-1, 0, 1]), (N+1, N+1), 'lil')\n",
    "D2e[0, :4] = 1, -2, 1, 0\n",
    "D2e[-1, -4:] = 0, 1, -2, 1\n",
    "D2e *= (1/dt**2)\n",
    "print(D2e @ f)"
   ]
  },
  {
   "cell_type": "code",
   "execution_count": 51,
   "metadata": {},
   "outputs": [
    {
     "data": {
      "text/plain": [
       "<matplotlib.legend.Legend at 0x7f003034e350>"
      ]
     },
     "execution_count": 51,
     "metadata": {},
     "output_type": "execute_result"
    },
    {
     "data": {
      "image/png": "[encoded data removed]",
      "text/plain": [
       "<Figure size 640x480 with 1 Axes>"
      ]
     },
     "metadata": {},
     "output_type": "display_data"
    }
   ],
   "source": [
    "f = np.sin(np.pi*t / T)\n",
    "d2fe = -(np.pi/T)**2*f\n",
    "d2f = D2 @ f\n",
    "d2f1 = D2e @ f\n",
    "plt.plot(t, d2fe, 'k', t, d2f, 'b', t, d2f1, 'r')\n",
    "plt.legend(['Exact', '2nd order', '1st order'])"
   ]
  },
  {
   "cell_type": "code",
   "execution_count": 52,
   "metadata": {},
   "outputs": [
    {
     "name": "stdout",
     "output_type": "stream",
     "text": [
      "[[-3.  4. -1.  0.  0.  0.  0.  0.  0.]\n",
      " [-1.  0.  1.  0.  0.  0.  0.  0.  0.]\n",
      " [ 0. -1.  0.  1.  0.  0.  0.  0.  0.]\n",
      " [ 0.  0. -1.  0.  1.  0.  0.  0.  0.]\n",
      " [ 0.  0.  0. -1.  0.  1.  0.  0.  0.]\n",
      " [ 0.  0.  0.  0. -1.  0.  1.  0.  0.]\n",
      " [ 0.  0.  0.  0.  0. -1.  0.  1.  0.]\n",
      " [ 0.  0.  0.  0.  0.  0. -1.  0.  1.]\n",
      " [ 0.  0.  0.  0.  0.  0.  1. -4.  3.]]\n"
     ]
    }
   ],
   "source": [
    "D1 = sparse.diags([-np.ones(N), np.ones(N)], np.array([-1, 1]), (N+1, N+1), 'lil')\n",
    "D1[0, :3] = -3, 4, -1\n",
    "D1[-1, -3:] = 1, -4, 3\n",
    "D1 *= (1/(2*dt))\n",
    "print(D1.toarray()*(2*dt))"
   ]
  },
  {
   "cell_type": "code",
   "execution_count": 53,
   "metadata": {},
   "outputs": [
    {
     "data": {
      "text/plain": [
       "array([1., 1., 1., 1., 1., 1., 1., 1., 1.])"
      ]
     },
     "execution_count": 53,
     "metadata": {},
     "output_type": "execute_result"
    }
   ],
   "source": [
    "f = t\n",
    "D1 @ f"
   ]
  },
  {
   "cell_type": "code",
   "execution_count": 54,
   "metadata": {},
   "outputs": [
    {
     "data": {
      "text/plain": [
       "<matplotlib.legend.Legend at 0x7f0029f2c650>"
      ]
     },
     "execution_count": 54,
     "metadata": {},
     "output_type": "execute_result"
    },
    {
     "data": {
      "image/png": "[encoded data removed]",
      "text/plain": [
       "<Figure size 640x480 with 1 Axes>"
      ]
     },
     "metadata": {},
     "output_type": "display_data"
    }
   ],
   "source": [
    "f = np.sin(np.pi*t / T)\n",
    "d1fe = (np.pi/T)*np.cos(np.pi*t/T)\n",
    "d1f = D1 @ f\n",
    "plt.plot(t, d1fe, 'k', t, d1f, 'b')\n",
    "plt.legend(['Exact', '2nd order'])"
   ]
  },
  {
   "cell_type": "code",
   "execution_count": 55,
   "metadata": {},
   "outputs": [
    {
     "data": {
      "text/plain": [
       "array([[ 1.25, -2.75,  1.75, -0.25,  0.  ,  0.  ,  0.  ,  0.  ,  0.  ],\n",
       "       [ 0.75, -1.25,  0.25,  0.25,  0.  ,  0.  ,  0.  ,  0.  ,  0.  ],\n",
       "       [ 0.25,  0.  , -0.5 ,  0.  ,  0.25,  0.  ,  0.  ,  0.  ,  0.  ],\n",
       "       [ 0.  ,  0.25,  0.  , -0.5 ,  0.  ,  0.25,  0.  ,  0.  ,  0.  ],\n",
       "       [ 0.  ,  0.  ,  0.25,  0.  , -0.5 ,  0.  ,  0.25,  0.  ,  0.  ],\n",
       "       [ 0.  ,  0.  ,  0.  ,  0.25,  0.  , -0.5 ,  0.  ,  0.25,  0.  ],\n",
       "       [ 0.  ,  0.  ,  0.  ,  0.  ,  0.25,  0.  , -0.5 ,  0.  ,  0.25],\n",
       "       [ 0.  ,  0.  ,  0.  ,  0.  ,  0.  ,  0.25,  0.25, -1.25,  0.75],\n",
       "       [ 0.  ,  0.  ,  0.  ,  0.  ,  0.  , -0.25,  1.75, -2.75,  1.25]])"
      ]
     },
     "execution_count": 55,
     "metadata": {},
     "output_type": "execute_result"
    }
   ],
   "source": [
    "D2n = D1 @ D1\n",
    "D2n.toarray()*dt**2"
   ]
  },
  {
   "cell_type": "code",
   "execution_count": 56,
   "metadata": {},
   "outputs": [
    {
     "data": {
      "text/plain": [
       "(1.3487689462745858, 0.37045090252771984)"
      ]
     },
     "execution_count": 56,
     "metadata": {},
     "output_type": "execute_result"
    }
   ],
   "source": [
    "f = np.sin(np.pi*t / T)\n",
    "d2fe = -(np.pi/T)**2*f\n",
    "e2 = D2 @ f - d2fe\n",
    "en = D2n @ f - d2fe\n",
    "np.sqrt(dt*np.linalg.norm(e2)), np.sqrt(dt*np.linalg.norm(en))"
   ]
  },
  {
   "cell_type": "code",
   "execution_count": 57,
   "metadata": {},
   "outputs": [
    {
     "data": {
      "text/plain": [
       "array([[ 1.,  0.,  0.,  0.,  0.,  0.,  0.,  0.,  0.],\n",
       "       [-1.,  2.,  1.,  0.,  0.,  0.,  0.,  0.,  0.],\n",
       "       [ 0., -1.,  2.,  1.,  0.,  0.,  0.,  0.,  0.],\n",
       "       [ 0.,  0., -1.,  2.,  1.,  0.,  0.,  0.,  0.],\n",
       "       [ 0.,  0.,  0., -1.,  2.,  1.,  0.,  0.,  0.],\n",
       "       [ 0.,  0.,  0.,  0., -1.,  2.,  1.,  0.,  0.],\n",
       "       [ 0.,  0.,  0.,  0.,  0., -1.,  2.,  1.,  0.],\n",
       "       [ 0.,  0.,  0.,  0.,  0.,  0., -1.,  2.,  1.],\n",
       "       [ 0.,  0.,  0.,  0.,  0.,  0.,  1., -4.,  5.]])"
      ]
     },
     "execution_count": 57,
     "metadata": {},
     "output_type": "execute_result"
    }
   ],
   "source": [
    "D1 = sparse.diags([-np.ones(N), np.ones(N)], np.array([-1, 1]), (N+1, N+1), 'lil')\n",
    "D1[0, :3] = -3, 4, -1. # Fix boundaries with second order accurate stencil\n",
    "D1[-1, -3:] = 1, -4, 3\n",
    "D1 *= (1/(2*dt))\n",
    "Id = sparse.eye(N+1)\n",
    "A = D1 + a*Id\n",
    "b = np.zeros(N+1)\n",
    "b[0] = I\n",
    "A[0, :3] = 1, 0, 0 # boundary condition\n",
    "A.toarray()"
   ]
  },
  {
   "cell_type": "code",
   "execution_count": 58,
   "metadata": {},
   "outputs": [
    {
     "data": {
      "text/plain": [
       "[<matplotlib.lines.Line2D at 0x7f0029d98cd0>,\n",
       " <matplotlib.lines.Line2D at 0x7f0029d98f50>,\n",
       " <matplotlib.lines.Line2D at 0x7f0029d99210>]"
      ]
     },
     "execution_count": 58,
     "metadata": {},
     "output_type": "execute_result"
    },
    {
     "data": {
      "image/png": "[encoded data removed]",
      "text/plain": [
       "<Figure size 640x480 with 1 Axes>"
      ]
     },
     "metadata": {},
     "output_type": "display_data"
    }
   ],
   "source": [
    "u1 = sparse.linalg.spsolve(A, b)\n",
    "plt.plot(t, u1, 'r', t, u, 'b', t, np.exp(-a*t), 'k')"
   ]
  },
  {
   "cell_type": "code",
   "execution_count": 59,
   "metadata": {},
   "outputs": [
    {
     "data": {
      "text/latex": [
       "$\\displaystyle \\left[\\begin{matrix}1 & - h & \\frac{h^{2}}{2}\\\\1 & 0 & 0\\\\1 & h & \\frac{h^{2}}{2}\\end{matrix}\\right]$"
      ],
      "text/plain": [
       "Matrix([\n",
       "[1, -h, h**2/2],\n",
       "[1,  0,      0],\n",
       "[1,  h, h**2/2]])"
      ]
     },
     "execution_count": 59,
     "metadata": {},
     "output_type": "execute_result"
    }
   ],
   "source": [
    "import sympy as sp\n",
    "x, h = sp.symbols('x,h')\n",
    "C = sp.Matrix([[1, -h, h**2/2], [1, 0, 0], [1, h, h**2/2]])\n",
    "C"
   ]
  },
  {
   "cell_type": "code",
   "execution_count": 60,
   "metadata": {},
   "outputs": [
    {
     "data": {
      "text/latex": [
       "$\\displaystyle \\left[\\begin{matrix}0 & 1 & 0\\\\- \\frac{1}{2 h} & 0 & \\frac{1}{2 h}\\\\\\frac{1}{h^{2}} & - \\frac{2}{h^{2}} & \\frac{1}{h^{2}}\\end{matrix}\\right]$"
      ],
      "text/plain": [
       "Matrix([\n",
       "[       0,       1,       0],\n",
       "[-1/(2*h),       0, 1/(2*h)],\n",
       "[ h**(-2), -2/h**2, h**(-2)]])"
      ]
     },
     "execution_count": 60,
     "metadata": {},
     "output_type": "execute_result"
    }
   ],
   "source": [
    "C.inv()"
   ]
  },
  {
   "cell_type": "code",
   "execution_count": 61,
   "metadata": {},
   "outputs": [
    {
     "data": {
      "text/latex": [
       "$\\displaystyle \\left[\\begin{matrix}- \\frac{2 u{\\left(x \\right)}}{h^{2}} + \\frac{u{\\left(- h + x \\right)}}{h^{2}} + \\frac{u{\\left(h + x \\right)}}{h^{2}}\\end{matrix}\\right]$"
      ],
      "text/plain": [
       "Matrix([[-2*u(x)/h**2 + u(-h + x)/h**2 + u(h + x)/h**2]])"
      ]
     },
     "execution_count": 61,
     "metadata": {},
     "output_type": "execute_result"
    }
   ],
   "source": [
    "u = sp.Function('u')\n",
    "coef = sp.Matrix([u(x-h), u(x), u(x+h)])\n",
    "(C.inv())[2, :] @ coef"
   ]
  },
  {
   "cell_type": "code",
   "execution_count": 62,
   "metadata": {},
   "outputs": [
    {
     "data": {
      "text/latex": [
       "$\\displaystyle \\left[\\begin{matrix}\\frac{u{\\left(x \\right)}}{h^{2}} - \\frac{2 u{\\left(h + x \\right)}}{h^{2}} + \\frac{u{\\left(2 h + x \\right)}}{h^{2}}\\end{matrix}\\right]$"
      ],
      "text/plain": [
       "Matrix([[u(x)/h**2 - 2*u(h + x)/h**2 + u(2*h + x)/h**2]])"
      ]
     },
     "execution_count": 62,
     "metadata": {},
     "output_type": "execute_result"
    }
   ],
   "source": [
    "C = sp.Matrix([[1, 0, 0], [1, h, h**2/2], [1, 2*h, 2*h**2]])\n",
    "coef = sp.Matrix([u(x), u(x+h), u(x+2*h)])\n",
    "(C.inv())[2, :] @ coef"
   ]
  },
  {
   "cell_type": "code",
   "execution_count": 63,
   "metadata": {},
   "outputs": [
    {
     "data": {
      "text/latex": [
       "$\\displaystyle \\left[\\begin{matrix}1 & 0 & 0 & 0\\\\- \\frac{11}{6 h} & \\frac{3}{h} & - \\frac{3}{2 h} & \\frac{1}{3 h}\\\\\\frac{2}{h^{2}} & - \\frac{5}{h^{2}} & \\frac{4}{h^{2}} & - \\frac{1}{h^{2}}\\\\- \\frac{1}{h^{3}} & \\frac{3}{h^{3}} & - \\frac{3}{h^{3}} & \\frac{1}{h^{3}}\\end{matrix}\\right]$"
      ],
      "text/plain": [
       "Matrix([\n",
       "[        1,       0,        0,       0],\n",
       "[-11/(6*h),     3/h, -3/(2*h), 1/(3*h)],\n",
       "[   2/h**2, -5/h**2,   4/h**2, -1/h**2],\n",
       "[  -1/h**3,  3/h**3,  -3/h**3, h**(-3)]])"
      ]
     },
     "execution_count": 63,
     "metadata": {},
     "output_type": "execute_result"
    }
   ],
   "source": [
    "C = sp.Matrix([[1, 0, 0, 0], [1, h, h**2/2, h**3/6], [1, 2*h, 2*h**2, 8*h**3/6], [1, 3*h, 9*h**2/2, 27*h**3/6]])\n",
    "C.inv()"
   ]
  },
  {
   "cell_type": "code",
   "execution_count": 64,
   "metadata": {},
   "outputs": [
    {
     "data": {
      "text/latex": [
       "$\\displaystyle \\left[\\begin{matrix}\\frac{2 u{\\left(x \\right)}}{h^{2}} - \\frac{5 u{\\left(h + x \\right)}}{h^{2}} + \\frac{4 u{\\left(2 h + x \\right)}}{h^{2}} - \\frac{u{\\left(3 h + x \\right)}}{h^{2}}\\end{matrix}\\right]$"
      ],
      "text/plain": [
       "Matrix([[2*u(x)/h**2 - 5*u(h + x)/h**2 + 4*u(2*h + x)/h**2 - u(3*h + x)/h**2]])"
      ]
     },
     "execution_count": 64,
     "metadata": {},
     "output_type": "execute_result"
    }
   ],
   "source": [
    "coef = sp.Matrix([u(x), u(x+h), u(x+2*h), u(x+3*h)])\n",
    "(C.inv())[2, :] @ coef"
   ]
  },
  {
   "cell_type": "code",
   "execution_count": 65,
   "metadata": {},
   "outputs": [
    {
     "data": {
      "text/latex": [
       "$\\displaystyle \\left[\\begin{matrix}0 & 0 & 0 & 1\\\\- \\frac{1}{3 h} & \\frac{3}{2 h} & - \\frac{3}{h} & \\frac{11}{6 h}\\\\- \\frac{1}{h^{2}} & \\frac{4}{h^{2}} & - \\frac{5}{h^{2}} & \\frac{2}{h^{2}}\\\\- \\frac{1}{h^{3}} & \\frac{3}{h^{3}} & - \\frac{3}{h^{3}} & \\frac{1}{h^{3}}\\end{matrix}\\right]$"
      ],
      "text/plain": [
       "Matrix([\n",
       "[       0,       0,       0,        1],\n",
       "[-1/(3*h), 3/(2*h),    -3/h, 11/(6*h)],\n",
       "[ -1/h**2,  4/h**2, -5/h**2,   2/h**2],\n",
       "[ -1/h**3,  3/h**3, -3/h**3,  h**(-3)]])"
      ]
     },
     "execution_count": 65,
     "metadata": {},
     "output_type": "execute_result"
    }
   ],
   "source": [
    "C = sp.Matrix([[1, -3*h, 9*h**2/2, -27*h**3/6], [1, -2*h, 2*h**2, -8*h**3/6], [1, -h, h**2/2, -h**3/6], [1, 0, 0, 0]])\n",
    "C.inv()"
   ]
  },
  {
   "cell_type": "code",
   "execution_count": 66,
   "metadata": {},
   "outputs": [
    {
     "data": {
      "text/latex": [
       "$\\displaystyle \\left[\\begin{matrix}\\frac{11 u{\\left(x \\right)}}{6 h} - \\frac{u{\\left(- 3 h + x \\right)}}{3 h} + \\frac{3 u{\\left(- 2 h + x \\right)}}{2 h} - \\frac{3 u{\\left(- h + x \\right)}}{h}\\end{matrix}\\right]$"
      ],
      "text/plain": [
       "Matrix([[11*u(x)/(6*h) - u(-3*h + x)/(3*h) + 3*u(-2*h + x)/(2*h) - 3*u(-h + x)/h]])"
      ]
     },
     "execution_count": 66,
     "metadata": {},
     "output_type": "execute_result"
    }
   ],
   "source": [
    "coef = sp.Matrix([u(x-3*h), u(x-2*h), u(x-h), u(x)])\n",
    "(C.inv())[1, :] @ coef"
   ]
  },
  {
   "cell_type": "code",
   "execution_count": null,
   "metadata": {},
   "outputs": [],
   "source": []
  }
 ],
 "metadata": {
  "kernelspec": {
   "display_name": "Python 3",
   "language": "python",
   "name": "python3"
  },
  "language_info": {
   "codemirror_mode": {
    "name": "ipython",
    "version": 3
   },
   "file_extension": ".py",
   "mimetype": "text/x-python",
   "name": "python",
   "nbconvert_exporter": "python",
   "pygments_lexer": "ipython3",
   "version": "3.11.5"
  }
 },
 "nbformat": 4,
 "nbformat_minor": 2
}
