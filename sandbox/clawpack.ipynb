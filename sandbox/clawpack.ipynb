{
 "cells": [
  {
   "cell_type": "code",
   "execution_count": 7,
   "metadata": {},
   "outputs": [],
   "source": [
    "from clawpack import pyclaw\n",
    "from clawpack import riemann\n",
    "import numpy as np"
   ]
  },
  {
   "cell_type": "code",
   "execution_count": 2,
   "metadata": {},
   "outputs": [],
   "source": [
    "from clawpack import version"
   ]
  },
  {
   "cell_type": "code",
   "execution_count": 6,
   "metadata": {},
   "outputs": [
    {
     "name": "stdout",
     "output_type": "stream",
     "text": [
      "5.9.0\n"
     ]
    }
   ],
   "source": [
    "print(version.version)"
   ]
  },
  {
   "cell_type": "code",
   "execution_count": 8,
   "metadata": {},
   "outputs": [],
   "source": [
    "def main():\n",
    "    # (1) Define the Finite Voluem solver to be used with a Riemann Solver from\n",
    "    # the library\n",
    "    solver = pyclaw.ClawSolver1D(riemann.advection_1D)\n",
    "    solver.bc_lower[0] = pyclaw.BC.periodic\n",
    "    solver.bc_upper[0] = pyclaw.BC.periodic\n",
    "\n",
    "    # (2) Define the mesh\n",
    "    x_dimension = pyclaw.Dimension(0.0, 1.0, 100)\n",
    "    domain = pyclaw.Domain(x_dimension)\n",
    "\n",
    "    # (3) Instantiate a solution field on the Mesh\n",
    "    solution = pyclaw.Solution(solver.num_eqn, domain,)\n",
    "\n",
    "    # (4) Prescribe an initial state\n",
    "    state = solution.state\n",
    "    cell_center_coordinates = state.grid.p_centers[0]\n",
    "    state.q[0, :] = np.where(\n",
    "        (cell_center_coordinates > 0.2)\n",
    "        &\n",
    "        (cell_center_coordinates < 0.4),\n",
    "        1.0,\n",
    "        0.0,\n",
    "    )\n",
    "\n",
    "    # (5) Assign problem-specific parameters (\"u\" refers to the advection speed)\n",
    "    state.problem_data[\"u\"] = 1.0\n",
    "\n",
    "    # (6) The controller takes care of the time integration\n",
    "    controller = pyclaw.Controller()\n",
    "    controller.solution = solution\n",
    "    controller.solver = solver\n",
    "    controller.tfinal = 1.0\n",
    "\n",
    "    # (7) Run and visualize\n",
    "    controller.run()\n",
    "\n",
    "    pyclaw.plot.interactive_plot()"
   ]
  },
  {
   "cell_type": "code",
   "execution_count": 9,
   "metadata": {},
   "outputs": [
    {
     "name": "stdout",
     "output_type": "stream",
     "text": [
      "2023-12-22 12:08:03,384 INFO CLAW: Solution 0 computed for time t=0.000000\n",
      "2023-12-22 12:08:03,388 INFO CLAW: Solution 1 computed for time t=0.100000\n",
      "2023-12-22 12:08:03,392 INFO CLAW: Solution 2 computed for time t=0.200000\n",
      "2023-12-22 12:08:03,395 INFO CLAW: Solution 3 computed for time t=0.300000\n",
      "2023-12-22 12:08:03,398 INFO CLAW: Solution 4 computed for time t=0.400000\n",
      "2023-12-22 12:08:03,403 INFO CLAW: Solution 5 computed for time t=0.500000\n",
      "2023-12-22 12:08:03,406 INFO CLAW: Solution 6 computed for time t=0.600000\n",
      "2023-12-22 12:08:03,409 INFO CLAW: Solution 7 computed for time t=0.700000\n",
      "2023-12-22 12:08:03,412 INFO CLAW: Solution 8 computed for time t=0.800000\n",
      "2023-12-22 12:08:03,417 INFO CLAW: Solution 9 computed for time t=0.900000\n",
      "2023-12-22 12:08:03,421 INFO CLAW: Solution 10 computed for time t=1.000000\n"
     ]
    },
    {
     "name": "stderr",
     "output_type": "stream",
     "text": [
      "/usr/lib/python3.11/site-packages/clawpack/visclaw/frametools.py:936: SyntaxWarning: \"is not\" with a literal. Did you mean \"!=\"?\n",
      "  elif pp['patch_bgcolor'] is not 'w':\n"
     ]
    },
    {
     "name": "stdout",
     "output_type": "stream",
     "text": [
      "Input number of spatial dimensions for this data (default=1): Executed setplot successfully\n",
      "\n",
      "Interactive plotting... \n",
      "Type ? at IPLOT prompt for list of commands\n",
      "    Reading  Frame 0 at t = 0  from outdir = /home/carlosal1015/Documents/thesis-project/sandbox/_output\n",
      "    Plotting Frame 0 at t = 0.0\n",
      "    Reading  Frame 1 at t = 0.1  from outdir = /home/carlosal1015/Documents/thesis-project/sandbox/_output\n",
      "    Plotting Frame 1 at t = 0.1\n",
      "    Reading  Frame 2 at t = 0.2  from outdir = /home/carlosal1015/Documents/thesis-project/sandbox/_output\n",
      "    Plotting Frame 2 at t = 0.2\n",
      "    Reading  Frame 3 at t = 0.3  from outdir = /home/carlosal1015/Documents/thesis-project/sandbox/_output\n",
      "    Plotting Frame 3 at t = 0.3\n",
      "    Reading  Frame 4 at t = 0.4  from outdir = /home/carlosal1015/Documents/thesis-project/sandbox/_output\n",
      "    Plotting Frame 4 at t = 0.4\n",
      "    Reading  Frame 5 at t = 0.5  from outdir = /home/carlosal1015/Documents/thesis-project/sandbox/_output\n",
      "    Plotting Frame 5 at t = 0.5\n",
      "    Reading  Frame 6 at t = 0.6  from outdir = /home/carlosal1015/Documents/thesis-project/sandbox/_output\n",
      "    Plotting Frame 6 at t = 0.6\n",
      "    Reading  Frame 7 at t = 0.7  from outdir = /home/carlosal1015/Documents/thesis-project/sandbox/_output\n",
      "    Plotting Frame 7 at t = 0.7\n",
      "    Reading  Frame 8 at t = 0.8  from outdir = /home/carlosal1015/Documents/thesis-project/sandbox/_output\n",
      "    Plotting Frame 8 at t = 0.8\n",
      "    Reading  Frame 9 at t = 0.9  from outdir = /home/carlosal1015/Documents/thesis-project/sandbox/_output\n",
      "    Plotting Frame 9 at t = 0.9\n",
      "    Reading  Frame 10 at t = 1  from outdir = /home/carlosal1015/Documents/thesis-project/sandbox/_output\n",
      "    Plotting Frame 10 at t = 1.0\n",
      "[Errno 2] No such file or directory: '/home/carlosal1015/Documents/thesis-project/sandbox/_output/fort.t0011'\n",
      "[Errno 2] No such file or directory: '/home/carlosal1015/Documents/thesis-project/sandbox/_output/fort.t0012'\n",
      "[Errno 2] No such file or directory: '/home/carlosal1015/Documents/thesis-project/sandbox/_output/fort.t0013'\n",
      "[Errno 2] No such file or directory: '/home/carlosal1015/Documents/thesis-project/sandbox/_output/fort.t0014'\n",
      "[Errno 2] No such file or directory: '/home/carlosal1015/Documents/thesis-project/sandbox/_output/fort.t0015'\n",
      "[Errno 2] No such file or directory: '/home/carlosal1015/Documents/thesis-project/sandbox/_output/fort.t0016'\n",
      "[Errno 2] No such file or directory: '/home/carlosal1015/Documents/thesis-project/sandbox/_output/fort.t0017'\n",
      "[Errno 2] No such file or directory: '/home/carlosal1015/Documents/thesis-project/sandbox/_output/fort.t0018'\n",
      "[Errno 2] No such file or directory: '/home/carlosal1015/Documents/thesis-project/sandbox/_output/fort.t0019'\n",
      "[Errno 2] No such file or directory: '/home/carlosal1015/Documents/thesis-project/sandbox/_output/fort.t0020'\n",
      "[Errno 2] No such file or directory: '/home/carlosal1015/Documents/thesis-project/sandbox/_output/fort.t0021'\n",
      "[Errno 2] No such file or directory: '/home/carlosal1015/Documents/thesis-project/sandbox/_output/fort.t0022'\n",
      "[Errno 2] No such file or directory: '/home/carlosal1015/Documents/thesis-project/sandbox/_output/fort.t0023'\n",
      "[Errno 2] No such file or directory: '/home/carlosal1015/Documents/thesis-project/sandbox/_output/fort.t0024'\n",
      "[Errno 2] No such file or directory: '/home/carlosal1015/Documents/thesis-project/sandbox/_output/fort.t0025'\n",
      "[Errno 2] No such file or directory: '/home/carlosal1015/Documents/thesis-project/sandbox/_output/fort.t0026'\n",
      "[Errno 2] No such file or directory: '/home/carlosal1015/Documents/thesis-project/sandbox/_output/fort.t0027'\n"
     ]
    },
    {
     "ename": "KeyboardInterrupt",
     "evalue": "Interrupted by user",
     "output_type": "error",
     "traceback": [
      "\u001b[0;31m---------------------------------------------------------------------------\u001b[0m",
      "\u001b[0;31mKeyboardInterrupt\u001b[0m                         Traceback (most recent call last)",
      "Cell \u001b[0;32mIn[9], line 1\u001b[0m\n\u001b[0;32m----> 1\u001b[0m \u001b[43mmain\u001b[49m\u001b[43m(\u001b[49m\u001b[43m)\u001b[49m\n",
      "Cell \u001b[0;32mIn[8], line 38\u001b[0m, in \u001b[0;36mmain\u001b[0;34m()\u001b[0m\n\u001b[1;32m     35\u001b[0m \u001b[38;5;66;03m# (7) Run and visualize\u001b[39;00m\n\u001b[1;32m     36\u001b[0m controller\u001b[38;5;241m.\u001b[39mrun()\n\u001b[0;32m---> 38\u001b[0m \u001b[43mpyclaw\u001b[49m\u001b[38;5;241;43m.\u001b[39;49m\u001b[43mplot\u001b[49m\u001b[38;5;241;43m.\u001b[39;49m\u001b[43minteractive_plot\u001b[49m\u001b[43m(\u001b[49m\u001b[43m)\u001b[49m\n",
      "File \u001b[0;32m/usr/lib/python3.11/site-packages/clawpack/pyclaw/plot.py:71\u001b[0m, in \u001b[0;36minteractive_plot\u001b[0;34m(outdir, file_format, setplot)\u001b[0m\n\u001b[1;32m     69\u001b[0m \u001b[38;5;28;01mdef\u001b[39;00m \u001b[38;5;21minteractive_plot\u001b[39m(outdir\u001b[38;5;241m=\u001b[39m\u001b[38;5;124m'\u001b[39m\u001b[38;5;124m./_output\u001b[39m\u001b[38;5;124m'\u001b[39m, file_format\u001b[38;5;241m=\u001b[39m\u001b[38;5;124m'\u001b[39m\u001b[38;5;124mascii\u001b[39m\u001b[38;5;124m'\u001b[39m, setplot\u001b[38;5;241m=\u001b[39m\u001b[38;5;28;01mNone\u001b[39;00m):\n\u001b[1;32m     70\u001b[0m \u001b[38;5;250m    \u001b[39m\u001b[38;5;124;03m\"\"\"Convenience function for launching an interactive plotting session.\"\"\"\u001b[39;00m\n\u001b[0;32m---> 71\u001b[0m     \u001b[43mplot\u001b[49m\u001b[43m(\u001b[49m\u001b[43msetplot\u001b[49m\u001b[43m,\u001b[49m\u001b[43m \u001b[49m\u001b[43moutdir\u001b[49m\u001b[38;5;241;43m=\u001b[39;49m\u001b[43moutdir\u001b[49m\u001b[43m,\u001b[49m\u001b[43m \u001b[49m\u001b[43mfile_format\u001b[49m\u001b[38;5;241;43m=\u001b[39;49m\u001b[43mfile_format\u001b[49m\u001b[43m,\u001b[49m\u001b[43m \u001b[49m\u001b[43miplot\u001b[49m\u001b[38;5;241;43m=\u001b[39;49m\u001b[38;5;28;43;01mTrue\u001b[39;49;00m\u001b[43m,\u001b[49m\u001b[43m \u001b[49m\n\u001b[1;32m     72\u001b[0m \u001b[43m                  \u001b[49m\u001b[43mhtmlplot\u001b[49m\u001b[38;5;241;43m=\u001b[39;49m\u001b[38;5;28;43;01mFalse\u001b[39;49;00m\u001b[43m)\u001b[49m\n",
      "File \u001b[0;32m/usr/lib/python3.11/site-packages/clawpack/pyclaw/plot.py:59\u001b[0m, in \u001b[0;36mplot\u001b[0;34m(setplot, outdir, plotdir, htmlplot, iplot, file_format, **plot_kargs)\u001b[0m\n\u001b[1;32m     56\u001b[0m     ip \u001b[38;5;241m=\u001b[39m Iplotclaw\u001b[38;5;241m.\u001b[39mIplotclaw(setplot\u001b[38;5;241m=\u001b[39msetplot_func, outdir\u001b[38;5;241m=\u001b[39moutdir)\n\u001b[1;32m     57\u001b[0m     ip\u001b[38;5;241m.\u001b[39mplotdata\u001b[38;5;241m.\u001b[39mformat \u001b[38;5;241m=\u001b[39m file_format\n\u001b[0;32m---> 59\u001b[0m     \u001b[43mip\u001b[49m\u001b[38;5;241;43m.\u001b[39;49m\u001b[43mplotloop\u001b[49m\u001b[43m(\u001b[49m\u001b[43m)\u001b[49m\n\u001b[1;32m     61\u001b[0m \u001b[38;5;66;03m# Static HTML plotting\u001b[39;00m\n\u001b[1;32m     62\u001b[0m \u001b[38;5;28;01mif\u001b[39;00m htmlplot:\n",
      "File \u001b[0;32m/usr/lib/python3.11/site-packages/clawpack/visclaw/iplot.py:375\u001b[0m, in \u001b[0;36mIplot.plotloop\u001b[0;34m(self)\u001b[0m\n\u001b[1;32m    374\u001b[0m \u001b[38;5;28;01mdef\u001b[39;00m \u001b[38;5;21mplotloop\u001b[39m(\u001b[38;5;28mself\u001b[39m):\n\u001b[0;32m--> 375\u001b[0m     \u001b[38;5;28;43mself\u001b[39;49m\u001b[38;5;241;43m.\u001b[39;49m\u001b[43mcmdloop\u001b[49m\u001b[43m(\u001b[49m\u001b[43m)\u001b[49m\n",
      "File \u001b[0;32m/usr/lib/python3.11/cmd.py:126\u001b[0m, in \u001b[0;36mCmd.cmdloop\u001b[0;34m(self, intro)\u001b[0m\n\u001b[1;32m    124\u001b[0m \u001b[38;5;28;01mif\u001b[39;00m \u001b[38;5;28mself\u001b[39m\u001b[38;5;241m.\u001b[39muse_rawinput:\n\u001b[1;32m    125\u001b[0m     \u001b[38;5;28;01mtry\u001b[39;00m:\n\u001b[0;32m--> 126\u001b[0m         line \u001b[38;5;241m=\u001b[39m \u001b[38;5;28;43minput\u001b[39;49m\u001b[43m(\u001b[49m\u001b[38;5;28;43mself\u001b[39;49m\u001b[38;5;241;43m.\u001b[39;49m\u001b[43mprompt\u001b[49m\u001b[43m)\u001b[49m\n\u001b[1;32m    127\u001b[0m     \u001b[38;5;28;01mexcept\u001b[39;00m \u001b[38;5;167;01mEOFError\u001b[39;00m:\n\u001b[1;32m    128\u001b[0m         line \u001b[38;5;241m=\u001b[39m \u001b[38;5;124m'\u001b[39m\u001b[38;5;124mEOF\u001b[39m\u001b[38;5;124m'\u001b[39m\n",
      "File \u001b[0;32m/usr/lib/python3.11/site-packages/ipykernel/kernelbase.py:1261\u001b[0m, in \u001b[0;36mKernel.raw_input\u001b[0;34m(self, prompt)\u001b[0m\n\u001b[1;32m   1259\u001b[0m     msg \u001b[38;5;241m=\u001b[39m \u001b[38;5;124m\"\u001b[39m\u001b[38;5;124mraw_input was called, but this frontend does not support input requests.\u001b[39m\u001b[38;5;124m\"\u001b[39m\n\u001b[1;32m   1260\u001b[0m     \u001b[38;5;28;01mraise\u001b[39;00m StdinNotImplementedError(msg)\n\u001b[0;32m-> 1261\u001b[0m \u001b[38;5;28;01mreturn\u001b[39;00m \u001b[38;5;28;43mself\u001b[39;49m\u001b[38;5;241;43m.\u001b[39;49m\u001b[43m_input_request\u001b[49m\u001b[43m(\u001b[49m\n\u001b[1;32m   1262\u001b[0m \u001b[43m    \u001b[49m\u001b[38;5;28;43mstr\u001b[39;49m\u001b[43m(\u001b[49m\u001b[43mprompt\u001b[49m\u001b[43m)\u001b[49m\u001b[43m,\u001b[49m\n\u001b[1;32m   1263\u001b[0m \u001b[43m    \u001b[49m\u001b[38;5;28;43mself\u001b[39;49m\u001b[38;5;241;43m.\u001b[39;49m\u001b[43m_parent_ident\u001b[49m\u001b[43m[\u001b[49m\u001b[38;5;124;43m\"\u001b[39;49m\u001b[38;5;124;43mshell\u001b[39;49m\u001b[38;5;124;43m\"\u001b[39;49m\u001b[43m]\u001b[49m\u001b[43m,\u001b[49m\n\u001b[1;32m   1264\u001b[0m \u001b[43m    \u001b[49m\u001b[38;5;28;43mself\u001b[39;49m\u001b[38;5;241;43m.\u001b[39;49m\u001b[43mget_parent\u001b[49m\u001b[43m(\u001b[49m\u001b[38;5;124;43m\"\u001b[39;49m\u001b[38;5;124;43mshell\u001b[39;49m\u001b[38;5;124;43m\"\u001b[39;49m\u001b[43m)\u001b[49m\u001b[43m,\u001b[49m\n\u001b[1;32m   1265\u001b[0m \u001b[43m    \u001b[49m\u001b[43mpassword\u001b[49m\u001b[38;5;241;43m=\u001b[39;49m\u001b[38;5;28;43;01mFalse\u001b[39;49;00m\u001b[43m,\u001b[49m\n\u001b[1;32m   1266\u001b[0m \u001b[43m\u001b[49m\u001b[43m)\u001b[49m\n",
      "File \u001b[0;32m/usr/lib/python3.11/site-packages/ipykernel/kernelbase.py:1304\u001b[0m, in \u001b[0;36mKernel._input_request\u001b[0;34m(self, prompt, ident, parent, password)\u001b[0m\n\u001b[1;32m   1301\u001b[0m \u001b[38;5;28;01mexcept\u001b[39;00m \u001b[38;5;167;01mKeyboardInterrupt\u001b[39;00m:\n\u001b[1;32m   1302\u001b[0m     \u001b[38;5;66;03m# re-raise KeyboardInterrupt, to truncate traceback\u001b[39;00m\n\u001b[1;32m   1303\u001b[0m     msg \u001b[38;5;241m=\u001b[39m \u001b[38;5;124m\"\u001b[39m\u001b[38;5;124mInterrupted by user\u001b[39m\u001b[38;5;124m\"\u001b[39m\n\u001b[0;32m-> 1304\u001b[0m     \u001b[38;5;28;01mraise\u001b[39;00m \u001b[38;5;167;01mKeyboardInterrupt\u001b[39;00m(msg) \u001b[38;5;28;01mfrom\u001b[39;00m \u001b[38;5;28;01mNone\u001b[39;00m\n\u001b[1;32m   1305\u001b[0m \u001b[38;5;28;01mexcept\u001b[39;00m \u001b[38;5;167;01mException\u001b[39;00m:\n\u001b[1;32m   1306\u001b[0m     \u001b[38;5;28mself\u001b[39m\u001b[38;5;241m.\u001b[39mlog\u001b[38;5;241m.\u001b[39mwarning(\u001b[38;5;124m\"\u001b[39m\u001b[38;5;124mInvalid Message:\u001b[39m\u001b[38;5;124m\"\u001b[39m, exc_info\u001b[38;5;241m=\u001b[39m\u001b[38;5;28;01mTrue\u001b[39;00m)\n",
      "\u001b[0;31mKeyboardInterrupt\u001b[0m: Interrupted by user"
     ]
    },
    {
     "data": {
      "image/png": "[encoded data removed]",
      "text/plain": [
       "<Figure size 640x480 with 1 Axes>"
      ]
     },
     "metadata": {},
     "output_type": "display_data"
    }
   ],
   "source": [
    "main()"
   ]
  },
  {
   "cell_type": "code",
   "execution_count": null,
   "metadata": {},
   "outputs": [],
   "source": [
    "\n",
    "\n",
    "\n",
    "\n",
    "\n",
    "\n",
    "\n",
    "\n",
    "\n",
    "\n"
   ]
  }
 ],
 "metadata": {
  "kernelspec": {
   "display_name": "Python 3",
   "language": "python",
   "name": "python3"
  },
  "language_info": {
   "codemirror_mode": {
    "name": "ipython",
    "version": 3
   },
   "file_extension": ".py",
   "mimetype": "text/x-python",
   "name": "python",
   "nbconvert_exporter": "python",
   "pygments_lexer": "ipython3",
   "version": "3.11.6"
  }
 },
 "nbformat": 4,
 "nbformat_minor": 2
}
